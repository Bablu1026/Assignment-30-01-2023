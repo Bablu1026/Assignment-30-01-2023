{
 "cells": [
  {
   "cell_type": "code",
   "execution_count": 11,
   "id": "7040abf6-d294-46ac-8129-6944235d1e35",
   "metadata": {},
   "outputs": [
    {
     "name": "stdin",
     "output_type": "stream",
     "text": [
      "Enter your percentage: 55\n"
     ]
    },
    {
     "name": "stdout",
     "output_type": "stream",
     "text": [
      "D\n"
     ]
    }
   ],
   "source": [
    "# Q: 1 write a python program to accept percentage from the user and display the grading\n",
    "# Ans:\n",
    "percentage = int(input(\"Enter your percentage:\"))\n",
    "if percentage > 90:\n",
    "    print(\"A\")\n",
    "elif percentage > 80:\n",
    "    print(\"B\")\n",
    "elif percentage >= 60:\n",
    "    print(\"C\")\n",
    "else:\n",
    "    print(\"D\")"
   ]
  },
  {
   "cell_type": "code",
   "execution_count": 12,
   "id": "9929d734-69da-42ea-a34c-20d319839688",
   "metadata": {},
   "outputs": [
    {
     "name": "stdin",
     "output_type": "stream",
     "text": [
      "Enter your cost_price:  25000\n"
     ]
    },
    {
     "name": "stdout",
     "output_type": "stream",
     "text": [
      "5%\n"
     ]
    }
   ],
   "source": [
    "# Q: 2 write a python program to accept the cost price of a bike and display  the road tax to be paid according to the following criteria\n",
    "# Ans: \n",
    "cost_price = int(input(\"Enter your cost_price: \"))\n",
    "if cost_price > 100000:\n",
    "    print(\"15%\")\n",
    "elif cost_price > 50000 :\n",
    "    print(\"10%\")\n",
    "elif cost_price <= 50000:\n",
    "    print(\"5%\")"
   ]
  },
  {
   "cell_type": "code",
   "execution_count": 13,
   "id": "80144e90-b7af-47cd-8ae0-10171917f8d4",
   "metadata": {},
   "outputs": [
    {
     "name": "stdin",
     "output_type": "stream",
     "text": [
      "Enter the city name:  kuwait\n"
     ]
    },
    {
     "name": "stdout",
     "output_type": "stream",
     "text": [
      "monument not available for - kuwait\n"
     ]
    }
   ],
   "source": [
    "# Q:3 Accept any city from user and display monuments of that city \n",
    "# Ans: \n",
    "city = (input(\"Enter the city name: \"))\n",
    "if city == \"Delhi\" or city == \"delhi\":\n",
    "    print(\"Monument: Red Fort\")\n",
    "elif city == \"Agra\" or city == \"agra\":\n",
    "    print(\"Monument: Taj Mahal\")\n",
    "elif city== \"Jaipur\"or city == \"jaipur\":\n",
    "    print(\"Monument: Jal Mahal\")\n",
    "else:\n",
    "    print(\"monument not available for -\",city)"
   ]
  },
  {
   "cell_type": "code",
   "execution_count": 14,
   "id": "33a79c2a-95a8-4b53-a8bd-9495d53b5fa9",
   "metadata": {},
   "outputs": [
    {
     "name": "stdin",
     "output_type": "stream",
     "text": [
      "enter a number: 220\n"
     ]
    },
    {
     "name": "stdout",
     "output_type": "stream",
     "text": [
      "73.33333333333333\n",
      "24.444444444444443\n",
      "the total nob of time given number is divisible \n",
      "2\n"
     ]
    }
   ],
   "source": [
    "# Q:4 check how many times a given number can be divided by 3 before it is less than or equal to 10\n",
    "#  Ans:\n",
    "number= int(input(\"enter a number:\"))\n",
    "x = number\n",
    "y = 3\n",
    "count = 0 \n",
    "while True :\n",
    "    if x/y >=10:\n",
    "        x=x/y\n",
    "        count +=1\n",
    "        print(x)\n",
    "    else:\n",
    "        break\n",
    "print(\"the total nob of time given number is divisible \")\n",
    "print(count)"
   ]
  },
  {
   "cell_type": "code",
   "execution_count": 5,
   "id": "7e5e5e1a-d64d-4b16-8a4a-dc7c0daccfc5",
   "metadata": {},
   "outputs": [
    {
     "name": "stdout",
     "output_type": "stream",
     "text": [
      "1\n",
      "2\n",
      "3\n",
      "4\n",
      "5\n"
     ]
    }
   ],
   "source": [
    "# Q:5 why and when to use While Loop in Python give a detailed description with example\n",
    "# Ans: In Python, a while loop is used when you want to repeatedly execute a block of code as long as a given condition is true\n",
    "# The condition is evaluated at the beginning of each iteration, and if it is true, the code inside the loop will be executed. \n",
    "# Once the condition becomes false, the loop will terminate and control will be passed to the next line of code after the loop.\n",
    "# ex: \n",
    "count = 1\n",
    "while count <= 5:\n",
    "    print(count)\n",
    "    count += 1\n"
   ]
  },
  {
   "cell_type": "code",
   "execution_count": 6,
   "id": "07a816d0-091e-4a41-986e-2c696154b6ac",
   "metadata": {},
   "outputs": [
    {
     "name": "stdout",
     "output_type": "stream",
     "text": [
      "1 \n",
      "1 2 \n",
      "1 2 3 \n",
      "1 2 3 4 \n",
      "1 2 3 4 5 \n"
     ]
    }
   ],
   "source": [
    "# Q:6 Use nested while loop to print 3 different pattern\n",
    "# Ans:\n",
    "rows = 5\n",
    "for i in range(1, rows + 1):\n",
    "    for j in range(1, i + 1):\n",
    "        print(j, end=' ')\n",
    "    print('')\n"
   ]
  },
  {
   "cell_type": "code",
   "execution_count": 7,
   "id": "ca69166a-e5c4-4693-8ff0-d717d8c1e384",
   "metadata": {},
   "outputs": [
    {
     "name": "stdout",
     "output_type": "stream",
     "text": [
      "* \n",
      "* * \n",
      "* * * \n",
      "* * * * \n",
      "* * * * * \n"
     ]
    }
   ],
   "source": [
    "rows = 5\n",
    "for i in range(0, rows):\n",
    "    for j in range(0, i + 1):\n",
    "        print(\"*\", end=' ')\n",
    "    print(\"\\r\")"
   ]
  },
  {
   "cell_type": "code",
   "execution_count": 8,
   "id": "f2e08bba-aea1-4428-84d3-1385678ed5eb",
   "metadata": {},
   "outputs": [
    {
     "name": "stdout",
     "output_type": "stream",
     "text": [
      "        * \n",
      "      * * \n",
      "    * * * \n",
      "  * * * * \n",
      "* * * * * \n"
     ]
    }
   ],
   "source": [
    "\n",
    "rows = 5\n",
    "k = 2 * rows - 2\n",
    "for i in range(0, rows):\n",
    "    for j in range(0, k):\n",
    "        print(end=\" \")\n",
    "    k = k - 2\n",
    "    for j in range(0, i + 1):\n",
    "        print(\"* \", end=\"\")\n",
    "    print(\"\")\n"
   ]
  },
  {
   "cell_type": "code",
   "execution_count": 9,
   "id": "ccc600ac-8a80-493c-ab13-0f80b4da0289",
   "metadata": {},
   "outputs": [
    {
     "name": "stdout",
     "output_type": "stream",
     "text": [
      "10\n",
      "9\n",
      "8\n",
      "7\n",
      "6\n",
      "5\n",
      "4\n",
      "3\n",
      "2\n",
      "1\n"
     ]
    }
   ],
   "source": [
    "# Q:7 Reverse a while loop to display number from 10 to 1\n",
    "i = 10\n",
    "while i >= 1:\n",
    "    print(i)\n",
    "    i = i - 1\n",
    "    \n"
   ]
  },
  {
   "cell_type": "code",
   "execution_count": 10,
   "id": "7c66b302-c0e7-4875-a0ef-349c45f818c7",
   "metadata": {},
   "outputs": [
    {
     "name": "stdout",
     "output_type": "stream",
     "text": [
      "10 9 8 7 6 5 4 3 2 1 "
     ]
    }
   ],
   "source": [
    "# Q:8 Reverse a while loop to display number from 10 to 1\n",
    "x = 10\n",
    "while x >0:\n",
    "    print(x,end=' ')\n",
    "    x-=1\n",
    "    "
   ]
  },
  {
   "cell_type": "code",
   "execution_count": null,
   "id": "3861e6b6-3ec6-4de3-9bed-54e11f6bb247",
   "metadata": {},
   "outputs": [],
   "source": []
  },
  {
   "cell_type": "code",
   "execution_count": null,
   "id": "5cf74531-97c7-4f88-acf4-6d9369505b71",
   "metadata": {},
   "outputs": [],
   "source": []
  },
  {
   "cell_type": "code",
   "execution_count": null,
   "id": "67ec7e31-f045-4d47-92c3-0551e7d382c7",
   "metadata": {},
   "outputs": [],
   "source": []
  },
  {
   "cell_type": "code",
   "execution_count": null,
   "id": "8407c0cf-62da-445b-a6c1-282a6add8072",
   "metadata": {},
   "outputs": [],
   "source": []
  },
  {
   "cell_type": "code",
   "execution_count": null,
   "id": "f2ad0b9a-ff73-4487-976a-942cfdc1302b",
   "metadata": {},
   "outputs": [],
   "source": []
  }
 ],
 "metadata": {
  "kernelspec": {
   "display_name": "Python 3 (ipykernel)",
   "language": "python",
   "name": "python3"
  },
  "language_info": {
   "codemirror_mode": {
    "name": "ipython",
    "version": 3
   },
   "file_extension": ".py",
   "mimetype": "text/x-python",
   "name": "python",
   "nbconvert_exporter": "python",
   "pygments_lexer": "ipython3",
   "version": "3.10.8"
  }
 },
 "nbformat": 4,
 "nbformat_minor": 5
}
